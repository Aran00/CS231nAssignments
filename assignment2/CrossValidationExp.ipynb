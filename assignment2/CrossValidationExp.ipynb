{
 "cells": [
  {
   "cell_type": "code",
   "execution_count": 8,
   "metadata": {
    "collapsed": false,
    "deletable": true,
    "editable": true
   },
   "outputs": [
    {
     "name": "stdout",
     "output_type": "stream",
     "text": [
      "The autoreload extension is already loaded. To reload it, use:\n",
      "  %reload_ext autoreload\n"
     ]
    }
   ],
   "source": [
    "# As usual, a bit of setup\n",
    "import datetime\n",
    "import itertools\n",
    "import numpy as np\n",
    "import matplotlib.pyplot as plt\n",
    "from cs231n.classifiers.cnn import *\n",
    "from cs231n.data_utils import get_CIFAR10_data\n",
    "from cs231n.gradient_check import eval_numerical_gradient_array, eval_numerical_gradient\n",
    "from cs231n.layers import *\n",
    "from cs231n.fast_layers import *\n",
    "from cs231n.solver import Solver\n",
    "from cs231n.classifiers.convnet import *\n",
    "from cs231n.cross_validation import cross_val_score\n",
    "\n",
    "%matplotlib inline\n",
    "plt.rcParams['figure.figsize'] = (10.0, 8.0) # set default size of plots\n",
    "plt.rcParams['image.interpolation'] = 'nearest'\n",
    "plt.rcParams['image.cmap'] = 'gray'\n",
    "\n",
    "# for auto-reloading external modules\n",
    "# see http://stackoverflow.com/questions/1907993/autoreload-of-modules-in-ipython\n",
    "%load_ext autoreload\n",
    "%autoreload 2\n",
    "\n",
    "def rel_error(x, y):\n",
    "  \"\"\" returns relative error \"\"\"\n",
    "  return np.max(np.abs(x - y) / (np.maximum(1e-8, np.abs(x) + np.abs(y))))"
   ]
  },
  {
   "cell_type": "code",
   "execution_count": 3,
   "metadata": {
    "collapsed": false,
    "deletable": true,
    "editable": true
   },
   "outputs": [
    {
     "name": "stdout",
     "output_type": "stream",
     "text": [
      "X_val:  (1000, 3, 32, 32)\n",
      "X_train:  (49000, 3, 32, 32)\n",
      "X_test:  (1000, 3, 32, 32)\n",
      "y_val:  (1000,)\n",
      "y_train:  (49000,)\n",
      "y_test:  (1000,)\n"
     ]
    }
   ],
   "source": [
    "# Load the (preprocessed) CIFAR10 data.\n",
    "\n",
    "data = get_CIFAR10_data()\n",
    "for k, v in data.iteritems():\n",
    "  print '%s: ' % k, v.shape"
   ]
  },
  {
   "cell_type": "code",
   "execution_count": 4,
   "metadata": {
    "collapsed": true,
    "deletable": true,
    "editable": true
   },
   "outputs": [],
   "source": [
    "num_train = 5000\n",
    "small_data = {\n",
    "  'X_train': data['X_train'][:num_train],\n",
    "  'y_train': data['y_train'][:num_train],\n",
    "  'X_val': data['X_val'],\n",
    "  'y_val': data['y_val'],\n",
    "}"
   ]
  },
  {
   "cell_type": "code",
   "execution_count": 9,
   "metadata": {
    "collapsed": true,
    "deletable": true,
    "editable": true
   },
   "outputs": [],
   "source": [
    "solver_config_temp = {\n",
    "    \"num_epochs\": 10,\n",
    "    \"batch_size\": 500,\n",
    "    \"update_rule\": 'sgd_momentum',\n",
    "    \"optim_config\": {\n",
    "        'learning_rate': 1e-2,\n",
    "    },\n",
    "    \"lr_decay\": 0.9,\n",
    "    \"verbose\": True,\n",
    "    \"print_every\": 10\n",
    "}\n"
   ]
  },
  {
   "cell_type": "code",
   "execution_count": null,
   "metadata": {
    "collapsed": true,
    "deletable": true,
    "editable": true
   },
   "outputs": [],
   "source": [
    "use_batch_norm_arr = [False, True]\n",
    "filter_num_arr = [16, 32]\n",
    "hidden_layer_dim_arr = [100, 200]\n",
    "reg_arr = [1e-2, 1e-3, 1e-4]\n",
    "conv_layer_count_arr = [2, 3, 4]\n",
    "\n",
    "print \"Start at : \", datetime.datetime.now()\n",
    "results = np.array((2*2*2*3*3 ,6), dtype=np.float32)\n",
    "i = 0\n",
    "for use_batch_norm, filter_num, hidden_layer_dim, reg,\\\n",
    "    conv_layer_count in itertools.product(use_batch_norm_arr, filter_num_arr, \n",
    "                                          hidden_layer_dim_arr, reg_arr, conv_layer_count_arr):\n",
    "    conv_layer_config = ConvLayerConfig(num_filters=filter_num, use_batch_norm=use_batch_norm)\n",
    "    hidden_layer_config = HiddenLayerConfig(hidden_layer_dim=hidden_layer_dim, use_batch_norm=use_batch_norm)\n",
    "\n",
    "    # To add reg param here...\n",
    "    conv_layer_configs = []\n",
    "    for j in xrange(conv_layer_count):\n",
    "        conv_layer_configs.append(conv_layer_config)\n",
    "    model = MultipleLayerConvNet(conv_layer_configs, [hidden_layer_config, hidden_layer_config], \n",
    "                                 reg=reg, dtype=np.float32)\n",
    "    score = cross_val_score(model, solver_config_temp, data['X_train'], data['y_train'], cv=5)\n",
    "    results[i, :] = [use_batch_norm, filter_num, hidden_layer_dim, reg, conv_layer_count, score]\n",
    "    print \"cross validation score for [%d, %d, %d, %f, %d] is %f\" %\\\n",
    "        (use_batch_norm, filter_num, hidden_layer_dim, reg, conv_layer_count, score)\n",
    "    i+=1\n",
    "    \n",
    "print \"End at : \", datetime.datetime.now()"
   ]
  }
 ],
 "metadata": {
  "kernelspec": {
   "display_name": "Python 2",
   "language": "python",
   "name": "python2"
  },
  "language_info": {
   "codemirror_mode": {
    "name": "ipython",
    "version": 2
   },
   "file_extension": ".py",
   "mimetype": "text/x-python",
   "name": "python",
   "nbconvert_exporter": "python",
   "pygments_lexer": "ipython2",
   "version": "2.7.11"
  }
 },
 "nbformat": 4,
 "nbformat_minor": 0
}
