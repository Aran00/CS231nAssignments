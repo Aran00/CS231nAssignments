{
 "cells": [
  {
   "cell_type": "code",
   "execution_count": 54,
   "metadata": {
    "collapsed": false,
    "deletable": true,
    "editable": true
   },
   "outputs": [
    {
     "name": "stdout",
     "output_type": "stream",
     "text": [
      "The autoreload extension is already loaded. To reload it, use:\n",
      "  %reload_ext autoreload\n"
     ]
    }
   ],
   "source": [
    "from cs231n.classifiers.convnet import *\n",
    "\n",
    "# for auto-reloading external modules\n",
    "# see http://stackoverflow.com/questions/1907993/autoreload-of-modules-in-ipython\n",
    "%load_ext autoreload\n",
    "%autoreload 2"
   ]
  },
  {
   "cell_type": "code",
   "execution_count": 55,
   "metadata": {
    "collapsed": false,
    "deletable": true,
    "editable": true
   },
   "outputs": [
    {
     "name": "stdout",
     "output_type": "stream",
     "text": [
      "Initial loss (no regularization):  2.31636100138\n",
      "Initial loss (with regularization):  56.217132582\n"
     ]
    }
   ],
   "source": [
    "# Have written a more complex model and test it here\n",
    "conv_layer_configs = ConvLayerConfig()\n",
    "hidden_layer_configs = HiddenLayerConfig()\n",
    "model = MultipleLayerConvNet([conv_layer_configs], [hidden_layer_configs])\n",
    "# Now we have the same model with ThreeLayerConvNet class\n",
    "\n",
    "N = 50\n",
    "X = np.random.randn(N, 3, 32, 32)\n",
    "y = np.random.randint(10, size=N)\n",
    "\n",
    "loss, grads = model.loss(X, y)\n",
    "print 'Initial loss (no regularization): ', loss\n",
    "\n",
    "model.reg = 0.5\n",
    "loss, grads = model.loss(X, y)\n",
    "print 'Initial loss (with regularization): ', loss"
   ]
  },
  {
   "cell_type": "code",
   "execution_count": 56,
   "metadata": {
    "collapsed": true,
    "deletable": true,
    "editable": true
   },
   "outputs": [],
   "source": [
    "from cs231n.gradient_check import eval_numerical_gradient_array, eval_numerical_gradient"
   ]
  },
  {
   "cell_type": "code",
   "execution_count": 57,
   "metadata": {
    "collapsed": true,
    "deletable": true,
    "editable": true
   },
   "outputs": [],
   "source": [
    "import numpy as np\n",
    "def rel_error(x, y):\n",
    "  \"\"\" returns relative error \"\"\"\n",
    "  return np.max(np.abs(x - y) / (np.maximum(1e-8, np.abs(x) + np.abs(y))))"
   ]
  },
  {
   "cell_type": "code",
   "execution_count": 79,
   "metadata": {
    "collapsed": false,
    "deletable": true,
    "editable": true
   },
   "outputs": [
    {
     "name": "stdout",
     "output_type": "stream",
     "text": [
      "Initial loss:  2.21725761973\n",
      "W1 max relative error: 1.66e-05\n",
      "W2 max relative error: 8.08e-07\n",
      "W3 max relative error: 1.79e-03\n",
      "W4 max relative error: 8.98e-10\n",
      "W5 max relative error: 1.38e-09\n",
      "b1 max relative error: 7.23e-11\n",
      "b2 max relative error: 2.22e-03\n",
      "b3 max relative error: 2.22e-03\n",
      "b4 max relative error: 2.80e-10\n",
      "b5 max relative error: 2.12e-10\n"
     ]
    }
   ],
   "source": [
    "num_inputs = 2\n",
    "input_dim = (3, 16, 16)\n",
    "reg = 0.0\n",
    "num_classes = 10\n",
    "X = np.random.randn(num_inputs, *input_dim)\n",
    "y = np.random.randint(num_classes, size=num_inputs)\n",
    "'''\n",
    "model = ThreeLayerConvNet(num_filters=3, filter_size=3,\n",
    "                          input_dim=input_dim, hidden_dim=7,\n",
    "                          dtype=np.float64)\n",
    "'''\n",
    "conv_layer_config = ConvLayerConfig(num_filters=3, use_batch_norm=True)\n",
    "conv_layer_config_copy = ConvLayerConfig(num_filters=4, use_batch_norm=True)\n",
    "hidden_layer_config = HiddenLayerConfig(hidden_layer_dim=10, use_batch_norm=True)\n",
    "hidden_layer_config_copy = HiddenLayerConfig(hidden_layer_dim=10)\n",
    "#hidden_layer_config_copy_1 = HiddenLayerConfig(hidden_layer_dim=10)\n",
    "\n",
    "model = MultipleLayerConvNet([conv_layer_config, conv_layer_config_copy], [hidden_layer_config, hidden_layer_config_copy], \n",
    "                             input_dim=input_dim, dtype=np.float64, reg=0, seed=1, init_verbose=False)\n",
    "\n",
    "loss, grads = model.loss(X, y)\n",
    "print \"Initial loss: \", loss\n",
    "\n",
    "for param_name in sorted(grads):\n",
    "  f = lambda _: model.loss(X, y)[0]\n",
    "  param_grad_num = eval_numerical_gradient(f, model.params[param_name], verbose=False, h=1e-5)\n",
    "  e = rel_error(param_grad_num, grads[param_name])\n",
    "  print '%s max relative error: %.2e' % (param_name, rel_error(param_grad_num, grads[param_name]))"
   ]
  },
  {
   "cell_type": "code",
   "execution_count": 59,
   "metadata": {
    "collapsed": false,
    "deletable": true,
    "editable": true
   },
   "outputs": [
    {
     "name": "stdout",
     "output_type": "stream",
     "text": [
      "The first row of W1: [ 0.08121727 -0.03058782 -0.02640859 -0.05364843  0.04327038 -0.11507693\n",
      "  0.08724059 -0.03806035  0.01595195 -0.01246852]\n",
      "b1: [ 0.  0.  0.  0.  0.  0.  0.  0.  0.  0.]\n",
      "The first row of W2: [ 0.05180864 -0.0083933  -0.06161278  0.04139681 -0.01018211 -0.00716189\n",
      " -0.10649454 -0.02187732 -0.03205681  0.00559647]\n",
      "b2: [ 0.  0.  0.  0.  0.  0.  0.  0.  0.  0.]\n",
      "The first row of W3: [-0.0498757   0.03622802  0.0793931  -0.04122579 -0.03326454  0.01985829\n",
      "  0.04512776  0.01278485 -0.08573427  0.03662613]\n",
      "b3: [ 0.  0.  0.  0.  0.  0.  0.  0.  0.  0.]\n",
      "Initial loss:  2.29471136551\n",
      "W1 relative error: 6.00e-06\n",
      "W2 relative error: 1.34e-08\n",
      "W3 relative error: 2.59e-09\n",
      "b1 relative error: 5.42e-09\n",
      "b2 relative error: 1.00e-09\n",
      "b3 relative error: 1.52e-10\n"
     ]
    }
   ],
   "source": [
    "from cs231n.classifiers.fc_net import *\n",
    "model = FullyConnectedNet([10, 10], input_dim=3*16*16, num_classes=10,\n",
    "                            weight_scale=5e-2, dtype=np.float64, seed=1)\n",
    "\n",
    "loss, grads = model.loss(X, y)\n",
    "print 'Initial loss: ', loss\n",
    "\n",
    "for name in sorted(grads):\n",
    "  f = lambda _: model.loss(X, y)[0]\n",
    "  grad_num = eval_numerical_gradient(f, model.params[name], verbose=False, h=1e-5)\n",
    "  print '%s relative error: %.2e' % (name, rel_error(grad_num, grads[name]))\n",
    "  "
   ]
  },
  {
   "cell_type": "code",
   "execution_count": 60,
   "metadata": {
    "collapsed": false
   },
   "outputs": [],
   "source": []
  },
  {
   "cell_type": "code",
   "execution_count": 65,
   "metadata": {
    "collapsed": false,
    "deletable": true,
    "editable": true
   },
   "outputs": [
    {
     "name": "stdout",
     "output_type": "stream",
     "text": [
      "[[ 1.62434536 -0.61175641]\n",
      " [-0.52817175 -1.07296862]]\n",
      "[[ 0.86540763 -2.3015387   1.74481176 -0.7612069   0.3190391 ]\n",
      " [-0.24937038  1.46210794 -2.06014071 -0.3224172  -0.38405435]\n",
      " [ 1.13376944 -1.09989127 -0.17242821 -0.87785842  0.04221375]]\n",
      "[[ 0.58281521 -1.10061918  1.14472371  0.90159072  0.50249434]\n",
      " [ 0.90085595 -0.68372786 -0.12289023 -0.93576943 -0.26788808]\n",
      " [ 0.53035547 -0.69166075 -0.39675353 -0.6871727  -0.84520564]\n",
      " [-0.67124613 -0.0126646  -1.11731035  0.2344157   1.65980218]]\n",
      "[[ 0.74204416]\n",
      " [-0.19183555]]\n",
      "[[-0.88762896 -0.74715829]]\n"
     ]
    }
   ],
   "source": [
    "np.random.seed(1)\n",
    "print np.random.randn(2,2)\n",
    "print np.random.randn(3,5)\n",
    "print np.random.randn(4,5)\n",
    "print np.random.randn(2,1)\n",
    "print np.random.randn(1,2)"
   ]
  },
  {
   "cell_type": "code",
   "execution_count": null,
   "metadata": {
    "collapsed": true
   },
   "outputs": [],
   "source": []
  }
 ],
 "metadata": {
  "kernelspec": {
   "display_name": "Python 2",
   "language": "python",
   "name": "python2"
  },
  "language_info": {
   "codemirror_mode": {
    "name": "ipython",
    "version": 2
   },
   "file_extension": ".py",
   "mimetype": "text/x-python",
   "name": "python",
   "nbconvert_exporter": "python",
   "pygments_lexer": "ipython2",
   "version": "2.7.11"
  }
 },
 "nbformat": 4,
 "nbformat_minor": 0
}
