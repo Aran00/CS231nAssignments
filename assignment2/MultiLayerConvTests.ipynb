{
 "cells": [
  {
   "cell_type": "code",
   "execution_count": 1,
   "metadata": {
    "collapsed": false
   },
   "outputs": [],
   "source": [
    "from cs231n.classifiers.convnet import *\n",
    "\n",
    "# for auto-reloading external modules\n",
    "# see http://stackoverflow.com/questions/1907993/autoreload-of-modules-in-ipython\n",
    "%load_ext autoreload\n",
    "%autoreload 2"
   ]
  },
  {
   "cell_type": "code",
   "execution_count": 2,
   "metadata": {
    "collapsed": false
   },
   "outputs": [
    {
     "name": "stdout",
     "output_type": "stream",
     "text": [
      "Initial loss (no regularization):  2.50092870395\n",
      "Initial loss (with regularization):  516.106551949\n"
     ]
    }
   ],
   "source": [
    "# Have written a more complex model and test it here\n",
    "conv_layer_configs = ConvLayerConfig()\n",
    "hidden_layer_configs = HiddenLayerConfig()\n",
    "model = MultipleLayerConvNet([conv_layer_configs], [hidden_layer_configs])\n",
    "# Now we have the same model with ThreeLayerConvNet class\n",
    "\n",
    "N = 50\n",
    "X = np.random.randn(N, 3, 32, 32)\n",
    "y = np.random.randint(10, size=N)\n",
    "\n",
    "loss, grads = model.loss(X, y)\n",
    "print 'Initial loss (no regularization): ', loss\n",
    "\n",
    "model.reg = 0.5\n",
    "loss, grads = model.loss(X, y)\n",
    "print 'Initial loss (with regularization): ', loss"
   ]
  },
  {
   "cell_type": "code",
   "execution_count": 3,
   "metadata": {
    "collapsed": true
   },
   "outputs": [],
   "source": [
    "from cs231n.gradient_check import eval_numerical_gradient_array, eval_numerical_gradient"
   ]
  },
  {
   "cell_type": "code",
   "execution_count": 4,
   "metadata": {
    "collapsed": true
   },
   "outputs": [],
   "source": [
    "import numpy as np\n",
    "def rel_error(x, y):\n",
    "  \"\"\" returns relative error \"\"\"\n",
    "  return np.max(np.abs(x - y) / (np.maximum(1e-8, np.abs(x) + np.abs(y))))"
   ]
  },
  {
   "cell_type": "code",
   "execution_count": 11,
   "metadata": {
    "collapsed": false
   },
   "outputs": [
    {
     "name": "stdout",
     "output_type": "stream",
     "text": [
      "Initial loss:  2.24882196382\n",
      "W1 max relative error: 7.91e-06\n",
      "W2 max relative error: 4.57e-05\n",
      "W3 max relative error: 1.32e-06\n",
      "W4 max relative error: 6.02e-07\n",
      "W5 max relative error: 9.64e-10\n",
      "b1 max relative error: 2.93e-08\n",
      "b2 max relative error: 2.60e-08\n",
      "b3 max relative error: 2.22e-08\n",
      "b4 max relative error: 2.22e-08\n",
      "b5 max relative error: 1.02e-10\n"
     ]
    }
   ],
   "source": [
    "num_inputs = 2\n",
    "input_dim = (3, 16, 16)\n",
    "reg = 0.0\n",
    "num_classes = 10\n",
    "X = np.random.randn(num_inputs, *input_dim)\n",
    "y = np.random.randint(num_classes, size=num_inputs)\n",
    "'''\n",
    "model = ThreeLayerConvNet(num_filters=3, filter_size=3,\n",
    "                          input_dim=input_dim, hidden_dim=7,\n",
    "                          dtype=np.float64)\n",
    "'''\n",
    "conv_layer_config = ConvLayerConfig(num_filters=3, weight_scale=weight_scale, use_batch_norm=True)\n",
    "# conv_layer_config_copy = ConvLayerConfig(num_filters=4, use_batch_norm=True)\n",
    "\n",
    "hidden_layer_config = HiddenLayerConfig(hidden_layer_dim=10, weight_scale=weight_scale/10, use_batch_norm=True)\n",
    "# hidden_layer_config_copy = HiddenLayerConfig(hidden_layer_dim=10, weight_scale=weight_scale)\n",
    "\n",
    "model = MultipleLayerConvNet([conv_layer_config, conv_layer_config], [hidden_layer_config, hidden_layer_config], \n",
    "                             input_dim=input_dim, output_layer_weight_scale=weight_scale, dtype=np.float64, seed=1)\n",
    "\n",
    "loss, grads = model.loss(X, y)\n",
    "print \"Initial loss: \", loss\n",
    "\n",
    "for param_name in sorted(grads):\n",
    "  f = lambda _: model.loss(X, y)[0]\n",
    "  param_grad_num = eval_numerical_gradient(f, model.params[param_name], verbose=False, h=1e-5)\n",
    "  e = rel_error(param_grad_num, grads[param_name])\n",
    "  print '%s max relative error: %.2e' % (param_name, rel_error(param_grad_num, grads[param_name]))"
   ]
  },
  {
   "cell_type": "code",
   "execution_count": 6,
   "metadata": {
    "collapsed": false
   },
   "outputs": [
    {
     "name": "stdout",
     "output_type": "stream",
     "text": [
      "The first row of W1: [ 0.08121727 -0.03058782 -0.02640859 -0.05364843  0.04327038 -0.11507693\n",
      "  0.08724059 -0.03806035  0.01595195 -0.01246852]\n",
      "b1: [ 0.  0.  0.  0.  0.  0.  0.  0.  0.  0.]\n",
      "The first row of W2: [ 0.05180864 -0.0083933  -0.06161278  0.04139681 -0.01018211 -0.00716189\n",
      " -0.10649454 -0.02187732 -0.03205681  0.00559647]\n",
      "b2: [ 0.  0.  0.  0.  0.  0.  0.  0.  0.  0.]\n",
      "The first row of W3: [-0.0498757   0.03622802  0.0793931  -0.04122579 -0.03326454  0.01985829\n",
      "  0.04512776  0.01278485 -0.08573427  0.03662613]\n",
      "b3: [ 0.  0.  0.  0.  0.  0.  0.  0.  0.  0.]\n",
      "Initial loss:  2.28234244628\n",
      "W1 relative error: 2.24e-05\n",
      "W2 relative error: 7.23e-09\n",
      "W3 relative error: 5.78e-09\n",
      "b1 relative error: 3.12e-08\n",
      "b2 relative error: 3.06e-09\n",
      "b3 relative error: 1.22e-10\n"
     ]
    }
   ],
   "source": [
    "from cs231n.classifiers.fc_net import *\n",
    "model = FullyConnectedNet([10, 10], input_dim=3*16*16, num_classes=10,\n",
    "                            weight_scale=5e-2, dtype=np.float64, seed=1)\n",
    "\n",
    "loss, grads = model.loss(X, y)\n",
    "print 'Initial loss: ', loss\n",
    "\n",
    "for name in sorted(grads):\n",
    "  f = lambda _: model.loss(X, y)[0]\n",
    "  grad_num = eval_numerical_gradient(f, model.params[name], verbose=False, h=1e-5)\n",
    "  print '%s relative error: %.2e' % (name, rel_error(grad_num, grads[name]))\n",
    "  "
   ]
  },
  {
   "cell_type": "code",
   "execution_count": null,
   "metadata": {
    "collapsed": true
   },
   "outputs": [],
   "source": []
  }
 ],
 "metadata": {
  "kernelspec": {
   "display_name": "Python 2",
   "language": "python",
   "name": "python2"
  },
  "language_info": {
   "codemirror_mode": {
    "name": "ipython",
    "version": 2
   },
   "file_extension": ".py",
   "mimetype": "text/x-python",
   "name": "python",
   "nbconvert_exporter": "python",
   "pygments_lexer": "ipython2",
   "version": "2.7.13"
  }
 },
 "nbformat": 4,
 "nbformat_minor": 0
}
