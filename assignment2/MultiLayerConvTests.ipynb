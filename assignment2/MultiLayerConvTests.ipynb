{
 "cells": [
  {
   "cell_type": "code",
   "execution_count": 2,
   "metadata": {
    "collapsed": false,
    "deletable": true,
    "editable": true
   },
   "outputs": [],
   "source": [
    "from cs231n.classifiers.convnet import *\n",
    "\n",
    "# for auto-reloading external modules\n",
    "# see http://stackoverflow.com/questions/1907993/autoreload-of-modules-in-ipython\n",
    "%load_ext autoreload\n",
    "%autoreload 2"
   ]
  },
  {
   "cell_type": "code",
   "execution_count": 3,
   "metadata": {
    "collapsed": false,
    "deletable": true,
    "editable": true
   },
   "outputs": [
    {
     "name": "stdout",
     "output_type": "stream",
     "text": [
      "Initial loss (no regularization):  2.30423118733\n",
      "Initial loss (with regularization):  2.30423118733\n"
     ]
    }
   ],
   "source": [
    "# Have written a more complex model and test it here\n",
    "conv_layer_configs = ConvLayerConfig()\n",
    "hidden_layer_configs = HiddenLayerConfig()\n",
    "model = MultipleLayerConvNet([conv_layer_configs], [hidden_layer_configs])\n",
    "# Now we have the same model with ThreeLayerConvNet class\n",
    "\n",
    "N = 50\n",
    "X = np.random.randn(N, 3, 32, 32)\n",
    "y = np.random.randint(10, size=N)\n",
    "\n",
    "loss, grads = model.loss(X, y)\n",
    "print 'Initial loss (no regularization): ', loss\n",
    "\n",
    "model.reg = 0.0\n",
    "loss, grads = model.loss(X, y)\n",
    "print 'Initial loss (with regularization): ', loss"
   ]
  },
  {
   "cell_type": "code",
   "execution_count": 4,
   "metadata": {
    "collapsed": true,
    "deletable": true,
    "editable": true
   },
   "outputs": [],
   "source": [
    "from cs231n.gradient_check import eval_numerical_gradient_array, eval_numerical_gradient"
   ]
  },
  {
   "cell_type": "code",
   "execution_count": 5,
   "metadata": {
    "collapsed": true,
    "deletable": true,
    "editable": true
   },
   "outputs": [],
   "source": [
    "import numpy as np\n",
    "def rel_error(x, y):\n",
    "  \"\"\" returns relative error \"\"\"\n",
    "  return np.max(np.abs(x - y) / (np.maximum(1e-8, np.abs(x) + np.abs(y))))"
   ]
  },
  {
   "cell_type": "code",
   "execution_count": 6,
   "metadata": {
    "collapsed": false,
    "deletable": true,
    "editable": true
   },
   "outputs": [
    {
     "name": "stdout",
     "output_type": "stream",
     "text": [
      "Initial loss:  3.05205091658\n",
      "W1 max relative error: 2.14e-04\n",
      "W2 max relative error: 4.61e-07\n",
      "W3 max relative error: 7.46e-04\n",
      "W4 max relative error: 2.32e-09\n",
      "W5 max relative error: 5.40e-09\n",
      "b1 max relative error: 2.22e-03\n",
      "b2 max relative error: 2.22e-03\n",
      "b3 max relative error: 3.11e-07\n",
      "b4 max relative error: 1.70e-09\n",
      "b5 max relative error: 1.20e-10\n"
     ]
    }
   ],
   "source": [
    "num_inputs = 2\n",
    "input_dim = (3, 16, 16)\n",
    "reg = 0.0\n",
    "num_classes = 10\n",
    "X = np.random.randn(num_inputs, *input_dim)\n",
    "y = np.random.randint(num_classes, size=num_inputs)\n",
    "'''\n",
    "model = ThreeLayerConvNet(num_filters=3, filter_size=3,\n",
    "                          input_dim=input_dim, hidden_dim=7,\n",
    "                          dtype=np.float64)\n",
    "'''\n",
    "conv_layer_config = ConvLayerConfig(num_filters=3, use_batch_norm=True)\n",
    "conv_layer_config_copy = ConvLayerConfig(num_filters=4, use_batch_norm=True)\n",
    "hidden_layer_config = HiddenLayerConfig(hidden_layer_dim=10, use_batch_norm=True)\n",
    "hidden_layer_config_copy = HiddenLayerConfig(hidden_layer_dim=10)\n",
    "#hidden_layer_config_copy_1 = HiddenLayerConfig(hidden_layer_dim=10)\n",
    "\n",
    "model = MultipleLayerConvNet([conv_layer_config, conv_layer_config_copy], [hidden_layer_config, hidden_layer_config_copy], \n",
    "                             input_dim=input_dim, dtype=np.float64, reg=0, seed=1, init_verbose=False)\n",
    "\n",
    "loss, grads = model.loss(X, y)\n",
    "print \"Initial loss: \", loss\n",
    "\n",
    "for param_name in sorted(grads):\n",
    "  f = lambda _: model.loss(X, y)[0]\n",
    "  param_grad_num = eval_numerical_gradient(f, model.params[param_name], verbose=False, h=1e-5)\n",
    "  e = rel_error(param_grad_num, grads[param_name])\n",
    "  print '%s max relative error: %.2e' % (param_name, rel_error(param_grad_num, grads[param_name]))"
   ]
  },
  {
   "cell_type": "code",
   "execution_count": 7,
   "metadata": {
    "collapsed": false,
    "deletable": true,
    "editable": true
   },
   "outputs": [
    {
     "name": "stdout",
     "output_type": "stream",
     "text": [
      "The first row of W1: [ 0.08121727 -0.03058782 -0.02640859 -0.05364843  0.04327038 -0.11507693\n",
      "  0.08724059 -0.03806035  0.01595195 -0.01246852]\n",
      "b1: [ 0.  0.  0.  0.  0.  0.  0.  0.  0.  0.]\n",
      "The first row of W2: [ 0.05180864 -0.0083933  -0.06161278  0.04139681 -0.01018211 -0.00716189\n",
      " -0.10649454 -0.02187732 -0.03205681  0.00559647]\n",
      "b2: [ 0.  0.  0.  0.  0.  0.  0.  0.  0.  0.]\n",
      "The first row of W3: [-0.0498757   0.03622802  0.0793931  -0.04122579 -0.03326454  0.01985829\n",
      "  0.04512776  0.01278485 -0.08573427  0.03662613]\n",
      "b3: [ 0.  0.  0.  0.  0.  0.  0.  0.  0.  0.]\n",
      "Initial loss:  2.27778515554\n",
      "W1 relative error: 1.03e-04\n",
      "W2 relative error: 8.52e-08\n",
      "W3 relative error: 9.81e-08\n",
      "b1 relative error: 1.99e-08\n",
      "b2 relative error: 5.13e-09\n",
      "b3 relative error: 8.12e-11\n"
     ]
    }
   ],
   "source": [
    "from cs231n.classifiers.fc_net import *\n",
    "model = FullyConnectedNet([10, 10], input_dim=3*16*16, num_classes=10,\n",
    "                            weight_scale=5e-2, dtype=np.float64, seed=1)\n",
    "\n",
    "loss, grads = model.loss(X, y)\n",
    "print 'Initial loss: ', loss\n",
    "\n",
    "for name in sorted(grads):\n",
    "  f = lambda _: model.loss(X, y)[0]\n",
    "  grad_num = eval_numerical_gradient(f, model.params[name], verbose=False, h=1e-5)\n",
    "  print '%s relative error: %.2e' % (name, rel_error(grad_num, grads[name]))\n",
    "  "
   ]
  },
  {
   "cell_type": "code",
   "execution_count": 8,
   "metadata": {
    "collapsed": false,
    "deletable": true,
    "editable": true
   },
   "outputs": [
    {
     "name": "stdout",
     "output_type": "stream",
     "text": [
      "[[ 1.62434536 -0.61175641]\n",
      " [-0.52817175 -1.07296862]]\n",
      "[[ 0.86540763 -2.3015387   1.74481176 -0.7612069   0.3190391 ]\n",
      " [-0.24937038  1.46210794 -2.06014071 -0.3224172  -0.38405435]\n",
      " [ 1.13376944 -1.09989127 -0.17242821 -0.87785842  0.04221375]]\n",
      "[[ 0.58281521 -1.10061918  1.14472371  0.90159072  0.50249434]\n",
      " [ 0.90085595 -0.68372786 -0.12289023 -0.93576943 -0.26788808]\n",
      " [ 0.53035547 -0.69166075 -0.39675353 -0.6871727  -0.84520564]\n",
      " [-0.67124613 -0.0126646  -1.11731035  0.2344157   1.65980218]]\n",
      "[[ 0.74204416]\n",
      " [-0.19183555]]\n",
      "[[-0.88762896 -0.74715829]]\n"
     ]
    }
   ],
   "source": [
    "np.random.seed(1)\n",
    "print np.random.randn(2,2)\n",
    "print np.random.randn(3,5)\n",
    "print np.random.randn(4,5)\n",
    "print np.random.randn(2,1)\n",
    "print np.random.randn(1,2)"
   ]
  },
  {
   "cell_type": "code",
   "execution_count": 18,
   "metadata": {
    "collapsed": false
   },
   "outputs": [
    {
     "name": "stdout",
     "output_type": "stream",
     "text": [
      "Initial loss:  2.58216290746\n",
      "W1 max relative error: 3.11e-08\n",
      "W2 max relative error: 1.84e-08\n",
      "W3 max relative error: 3.97e-09\n",
      "W4 max relative error: 6.15e-08\n",
      "W5 max relative error: 4.65e-07\n",
      "W6 max relative error: 1.89e-06\n",
      "W7 max relative error: 2.12e-06\n",
      "b1 max relative error: 8.40e-08\n",
      "b2 max relative error: 7.42e-09\n",
      "b3 max relative error: 1.91e-08\n",
      "b4 max relative error: 6.94e-10\n",
      "b5 max relative error: 1.47e-09\n",
      "b6 max relative error: 4.46e-10\n",
      "b7 max relative error: 1.13e-10\n"
     ]
    }
   ],
   "source": [
    "# make a more complex model and try again\n",
    "num_inputs = 2\n",
    "input_dim = (3, 16, 16)\n",
    "reg = 0.0\n",
    "num_classes = 10\n",
    "X = np.random.randn(num_inputs, *input_dim)\n",
    "y = np.random.randint(num_classes, size=num_inputs)\n",
    "\n",
    "use_batch_norm = True\n",
    "filter_num = 3\n",
    "hidden_dim = 20\n",
    "conv_layer_config1 = ConvLayerConfig(num_filters=filter_num, pool_params=None, use_batch_norm=use_batch_norm)\n",
    "conv_layer_config2 = ConvLayerConfig(num_filters=filter_num, pool_params=None, use_batch_norm=use_batch_norm)\n",
    "conv_layer_config3 = ConvLayerConfig(num_filters=filter_num, pool_params=None, use_batch_norm=use_batch_norm)\n",
    "conv_layer_config4 = ConvLayerConfig(num_filters=filter_num, pool_params=None, use_batch_norm=use_batch_norm)\n",
    "\n",
    "conv_layer_config_1 = ConvLayerConfig(num_filters=filter_num, use_batch_norm=use_batch_norm)\n",
    "conv_layer_config_2 = ConvLayerConfig(num_filters=filter_num, use_batch_norm=use_batch_norm)\n",
    "conv_layer_config_3 = ConvLayerConfig(num_filters=filter_num, use_batch_norm=use_batch_norm)\n",
    "conv_layer_config_4 = ConvLayerConfig(num_filters=filter_num, use_batch_norm=use_batch_norm)\n",
    "\n",
    "hidden_layer_config = HiddenLayerConfig(hidden_layer_dim=hidden_dim, use_batch_norm=False)\n",
    "hidden_layer_config = HiddenLayerConfig(hidden_layer_dim=hidden_dim, use_batch_norm=False)\n",
    "\n",
    "# To add reg param here...\n",
    "model = MultipleLayerConvNet([conv_layer_config_1, conv_layer_config_2, conv_layer_config_3, conv_layer_config_4], \n",
    "                             [hidden_layer_config, hidden_layer_config], input_dim=input_dim,\n",
    "                             reg=1e-3, dtype=np.float64)\n",
    "\n",
    "loss, grads = model.loss(X, y)\n",
    "print \"Initial loss: \", loss\n",
    "\n",
    "for param_name in sorted(grads):\n",
    "  f = lambda _: model.loss(X, y)[0]\n",
    "  param_grad_num = eval_numerical_gradient(f, model.params[param_name], verbose=False, h=1e-5)\n",
    "  e = rel_error(param_grad_num, grads[param_name])\n",
    "  print '%s max relative error: %.2e' % (param_name, rel_error(param_grad_num, grads[param_name]))"
   ]
  },
  {
   "cell_type": "code",
   "execution_count": null,
   "metadata": {
    "collapsed": true
   },
   "outputs": [],
   "source": []
  }
 ],
 "metadata": {
  "kernelspec": {
   "display_name": "Python 2",
   "language": "python",
   "name": "python2"
  },
  "language_info": {
   "codemirror_mode": {
    "name": "ipython",
    "version": 2
   },
   "file_extension": ".py",
   "mimetype": "text/x-python",
   "name": "python",
   "nbconvert_exporter": "python",
   "pygments_lexer": "ipython2",
   "version": "2.7.13"
  }
 },
 "nbformat": 4,
 "nbformat_minor": 0
}
